{
  "cells": [
    {
      "cell_type": "markdown",
      "metadata": {
        "id": "qN355IWI0CuR"
      },
      "source": [
        "## Reto 1: Funciones vectorizadas\n",
        "\n",
        "### 1. Objetivos:\n",
        "    - Practicar el uso de funciones vectorizadas\n",
        "\n",
        "---\n",
        "    \n",
        "### 2. Desarrollo:"
      ]
    },
    {
      "cell_type": "markdown",
      "metadata": {
        "id": "a7Rr8iV_0CuU"
      },
      "source": [
        "#### a) Porcentaje del total\n",
        "\n",
        "Eres maestro en la H. Universidad de las Américas Unidas. Has realizado el examen final de la primera generación de estudiantes de la escuela. El conteo máximo de aciertos en el examen era de 68 (es decir, 68 aciertos equivale al 100% de las preguntas respondidas correctamente). La siguiente `Serie` reúne los aciertos obtenidos por los 25 alumnos de la generación:"
      ]
    },
    {
      "cell_type": "code",
      "execution_count": 8,
      "metadata": {
        "id": "ynco82J40CuU"
      },
      "outputs": [],
      "source": [
        "## Realizar aquí los imports que necesites\n",
        "\n",
        "import pandas as pd\n",
        "import numpy as np\n"
      ]
    },
    {
      "cell_type": "code",
      "execution_count": 9,
      "metadata": {
        "id": "CIqACwgm0CuV"
      },
      "outputs": [],
      "source": [
        "aciertos = pd.Series([50, 55, 45, 65, 66, 46, 48, 53, 55, 56, 59, 68, 67, 60, 45, 56, 66, 64, 59, 55, 34, 45, 49, 48, 55])"
      ]
    },
    {
      "cell_type": "code",
      "source": [
        "aciertos_por_100 = np.multiply(aciertos, 100)\n",
        "entre_68 = np.divide(aciertos_por_100, 68)\n",
        "\n",
        "porcentajes = entre_68\n",
        "\n",
        "print (porcentajes)"
      ],
      "metadata": {
        "id": "2pSG646e1XDb",
        "outputId": "1a5f6d69-257d-45e4-e7ab-9517b2f5b5bc",
        "colab": {
          "base_uri": "https://localhost:8080/"
        }
      },
      "execution_count": 18,
      "outputs": [
        {
          "output_type": "stream",
          "name": "stdout",
          "text": [
            "0      73.529412\n",
            "1      80.882353\n",
            "2      66.176471\n",
            "3      95.588235\n",
            "4      97.058824\n",
            "5      67.647059\n",
            "6      70.588235\n",
            "7      77.941176\n",
            "8      80.882353\n",
            "9      82.352941\n",
            "10     86.764706\n",
            "11    100.000000\n",
            "12     98.529412\n",
            "13     88.235294\n",
            "14     66.176471\n",
            "15     82.352941\n",
            "16     97.058824\n",
            "17     94.117647\n",
            "18     86.764706\n",
            "19     80.882353\n",
            "20     50.000000\n",
            "21     66.176471\n",
            "22     72.058824\n",
            "23     70.588235\n",
            "24     80.882353\n",
            "dtype: float64\n"
          ]
        }
      ]
    },
    {
      "cell_type": "markdown",
      "metadata": {
        "id": "jgfBMNG00CuW"
      },
      "source": [
        "Tus calificaciones las das siempre en \"porcentaje de aciertos\". Tu reto es convertir la `Serie` `aciertos` en la `Serie` `porcentajes`, que contiene cada valor de `aciertos` como un porcentaje del número de aciertos totales (68).\n",
        "\n",
        "**SÓLO** puedes usar funciones vectorizadas de `numpy` para realizar tus cálculos. [Aquí puedes encontrar las funciones que necesitas](https://www.interactivechaos.com/manual/tutorial-de-numpy/funciones-universales-matematicas)."
      ]
    },
    {
      "cell_type": "markdown",
      "metadata": {
        "id": "DiFc58fO0CuY"
      },
      "source": [
        "Pídele a tu experta la función de verificación `obtener_calificaciones` (encontrada en el archivo `helpers.py` de la carpeta donde se encuentra este Reto), pégala debajo y corre la celda para verificar tu resultado:"
      ]
    },
    {
      "cell_type": "code",
      "execution_count": 16,
      "metadata": {
        "id": "fgMWavN20CuZ"
      },
      "outputs": [],
      "source": [
        "# Pega aquí la función de verificación\n",
        "\n",
        "\n",
        "\n",
        "def obtener_calificaciones(aciertos, porcentajes):\n",
        "\n",
        "    import numpy as np\n",
        "\n",
        "    porcentajes_correcto = (aciertos / 68) * 100\n",
        "    if not porcentajes_correcto.equals(porcentajes):\n",
        "        print(f'Hay algún error en tus cálculos...')\n",
        "        print(f'¡Por favor intenta de nuevo!')\n",
        "        return\n",
        "\n",
        "    print(f'== Calificaciones finales ==\\n')\n",
        "    print(f'{(\"Id del Alumno\"):15} | {(\"Porcentaje de Aciertos\"):15}')\n",
        "    print(f'----------------------------------------')\n",
        "    for i in range(0, len(porcentajes)):\n",
        "        print(f'{i:<15} | {np.round(porcentajes[i], 2):<}%')\n",
        "\n",
        ""
      ]
    },
    {
      "cell_type": "markdown",
      "metadata": {
        "id": "E5UTPsrN0Cub"
      },
      "source": [
        "<details><summary>Solución</summary>\n",
        "\n",
        "```python\n",
        "por_100 = np.multiply(aciertos, 100)\n",
        "entre_68 = np.divide(por_100, 68)\n",
        "\n",
        "porcentajes = entre_68\n",
        "```\n",
        "    \n",
        "</details>"
      ]
    },
    {
      "cell_type": "code",
      "execution_count": null,
      "metadata": {
        "id": "gVGGtQRe0Cuc"
      },
      "outputs": [],
      "source": []
    }
  ],
  "metadata": {
    "kernelspec": {
      "display_name": "Python (data_science)",
      "language": "python",
      "name": "data_science"
    },
    "language_info": {
      "codemirror_mode": {
        "name": "ipython",
        "version": 3
      },
      "file_extension": ".py",
      "mimetype": "text/x-python",
      "name": "python",
      "nbconvert_exporter": "python",
      "pygments_lexer": "ipython3",
      "version": "3.7.6"
    },
    "colab": {
      "provenance": []
    }
  },
  "nbformat": 4,
  "nbformat_minor": 0
}